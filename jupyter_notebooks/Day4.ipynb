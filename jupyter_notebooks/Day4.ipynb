{
 "cells": [
  {
   "cell_type": "code",
   "execution_count": 1,
   "id": "2aa225d6",
   "metadata": {},
   "outputs": [],
   "source": [
    "import numpy as np"
   ]
  },
  {
   "cell_type": "markdown",
   "id": "768228d2",
   "metadata": {},
   "source": [
    "## First part"
   ]
  },
  {
   "cell_type": "code",
   "execution_count": 2,
   "id": "4f3ccdf0",
   "metadata": {},
   "outputs": [],
   "source": [
    "# Read the puzzle, it contains a list of number and then 5x5 bingos\n",
    "lines_raw = []\n",
    "#with open('bingo_example.txt') as f:\n",
    "with open('bingo.txt') as f:\n",
    "    lines_raw = f.readlines()\n",
    "\n",
    "lines = []\n",
    "for indx, line in enumerate(lines_raw):\n",
    "    if indx == 0:\n",
    "        first_line = line.strip('\\n')\n",
    "    elif (indx - 1)%6 != 0:\n",
    "        lines.append(line.split('\\n')[0])"
   ]
  },
  {
   "cell_type": "code",
   "execution_count": 3,
   "id": "c501a417",
   "metadata": {},
   "outputs": [
    {
     "name": "stdout",
     "output_type": "stream",
     "text": [
      "[28, 82, 77, 88, 95, 55, 62, 21, 99, 14, 30, 9, 97, 92, 94, 3, 60, 22, 18, 86, 78, 71, 61, 43, 79, 33, 65, 81, 26, 49, 47, 51, 0, 89, 57, 75, 42, 35, 80, 1, 46, 83, 39, 53, 40, 36, 54, 70, 76, 38, 50, 23, 67, 2, 20, 87, 37, 66, 84, 24, 98, 4, 7, 12, 44, 10, 29, 5, 48, 59, 32, 41, 90, 17, 56, 85, 96, 93, 27, 74, 45, 25, 15, 6, 69, 16, 19, 8, 31, 13, 64, 63, 34, 73, 58, 91, 11, 68, 72, 52]\n"
     ]
    }
   ],
   "source": [
    "# Make a list of numbers from the first line\n",
    "numbers = first_line.split(',')\n",
    "\n",
    "#Transform strings to int\n",
    "numbers = [int(i) for i in numbers]\n",
    "print(numbers)"
   ]
  },
  {
   "cell_type": "code",
   "execution_count": 4,
   "id": "cc36ae40",
   "metadata": {},
   "outputs": [
    {
     "name": "stdout",
     "output_type": "stream",
     "text": [
      "100\n",
      "[[31. 88. 71. 23. 61.]\n",
      " [ 4.  9. 14. 93. 51.]\n",
      " [52. 50.  6. 34. 55.]\n",
      " [70. 64. 78. 65. 95.]\n",
      " [12. 22. 41. 60. 57.]]\n"
     ]
    }
   ],
   "source": [
    "# Make a list in which every element is a bingo of 5x5\n",
    "n_bingos = len(lines)//5\n",
    "bingos = [i for i in range(n_bingos)] \n",
    "bingo = np.ones((5,5))\n",
    "for indx, line in enumerate(lines):\n",
    "    n_bingo = indx//5\n",
    "    a = [line[3*i:3*i+2].strip(' ') for i in range(5)]\n",
    "    #print(line, a)\n",
    "    bingo[indx%5, :] = a[:]\n",
    "\n",
    "    bingos[n_bingo] = bingo\n",
    "    if (indx!=0 and indx%5 == 4):\n",
    "        bingo = np.ones((5,5))\n",
    "\n",
    "print(n_bingos)\n",
    "print(bingos[0])"
   ]
  },
  {
   "cell_type": "code",
   "execution_count": 5,
   "id": "7b7dd99a",
   "metadata": {},
   "outputs": [
    {
     "name": "stdout",
     "output_type": "stream",
     "text": [
      "BINGO 99 won after 25 numbers\n",
      "Last number: 79\n"
     ]
    }
   ],
   "source": [
    "# Check each bingo how much it takes to win\n",
    "count_last_win = len(numbers) # Maximum number of tries\n",
    "for bingo_number, bingo in enumerate(bingos):\n",
    "    win = False\n",
    "    count = 0\n",
    "    while not win and count_last_win > count:\n",
    "        count += 1\n",
    "        pool = set(numbers[:count])\n",
    "        i = 0\n",
    "        while not win and i < 5:\n",
    "            #Check if bingo in the row or column\n",
    "            row = set(bingo[i,:])\n",
    "            col = set(bingo[:,i])\n",
    "            if row.intersection(pool) == row or col.intersection(pool) == col:\n",
    "                count_last_win = count\n",
    "                bingo_last_win = bingo_number\n",
    "                last_number = numbers[count-1]\n",
    "                win = True \n",
    "            i += 1\n",
    "\n",
    "print(f'BINGO {bingo_number} won after {count} numbers')\n",
    "print(f'Last number: {last_number}')"
   ]
  },
  {
   "cell_type": "code",
   "execution_count": 6,
   "id": "e248d621",
   "metadata": {},
   "outputs": [
    {
     "name": "stdout",
     "output_type": "stream",
     "text": [
      "51034\n"
     ]
    }
   ],
   "source": [
    "#The winner bingo is:\n",
    "winner = bingos[bingo_last_win]\n",
    "\n",
    "#sum all unmarked numbers in the winner bingo (make a set for that)\n",
    "winner_set = set()\n",
    "for i in range(5):\n",
    "    winner_set.update(set(winner[i,:]))\n",
    "\n",
    "suma = int(sum(winner_set - pool))\n",
    "print( suma * last_number )"
   ]
  },
  {
   "cell_type": "markdown",
   "id": "6333b4f0",
   "metadata": {},
   "source": [
    "## Second part"
   ]
  },
  {
   "cell_type": "code",
   "execution_count": 7,
   "id": "7ce1af25",
   "metadata": {},
   "outputs": [
    {
     "name": "stdout",
     "output_type": "stream",
     "text": [
      " Position winners:\n",
      "[35, 70, 43, 33, 52, 53, 61, 72, 68, 51, 64, 48, 60, 61, 72, 68, 70, 43, 52, 42, 45, 87, 71, 67, 62, 62, 43, 62, 70, 52, 49, 54, 61, 62, 66, 44, 65, 35, 62, 43, 52, 69, 50, 25, 60, 60, 71, 41, 56, 75, 71, 76, 59, 61, 78, 64, 81, 77, 36, 60, 34, 57, 61, 61, 53, 62, 73, 44, 60, 78, 70, 53, 64, 72, 50, 56, 53, 37, 67, 67, 57, 49, 79, 41, 50, 77, 56, 78, 50, 44, 59, 63, 60, 55, 46, 35, 43, 73, 54, 70]\n",
      "\n",
      " Numbers taken for last winner: 87\n",
      "[28, 82, 77, 88, 95, 55, 62, 21, 99, 14, 30, 9, 97, 92, 94, 3, 60, 22, 18, 86, 78, 71, 61, 43, 79, 33, 65, 81, 26, 49, 47, 51, 0, 89, 57, 75, 42, 35, 80, 1, 46, 83, 39, 53, 40, 36, 54, 70, 76, 38, 50, 23, 67, 2, 20, 87, 37, 66, 84, 24, 98, 4, 7, 12, 44, 10, 29, 5, 48, 59, 32, 41, 90, 17, 56, 85, 96, 93, 27, 74, 45, 25, 15, 6, 69, 16, 19]\n",
      "\n",
      " Last number: 19\n"
     ]
    }
   ],
   "source": [
    "# Check each bingo how much it takes to win. \n",
    "# max_count is the number of tries for the bingo that wins latest\n",
    "winners = []\n",
    "max_count = 0\n",
    "for bingo_number, bingo in enumerate(bingos):\n",
    "    win = False\n",
    "    count = 0\n",
    "    while not win:\n",
    "        count += 1\n",
    "        pool = set(numbers[:count])\n",
    "        i = 0\n",
    "        while not win and i < 5:\n",
    "            #Check if bingo in the row or column\n",
    "            row = set(bingo[i,:])\n",
    "            col = set(bingo[:,i])\n",
    "            if row.intersection(pool) == row or col.intersection(pool) == col:\n",
    "                winners.append(count)\n",
    "                max_count = max(max_count, count)\n",
    "                win = True\n",
    "            i += 1\n",
    "\n",
    "if (len(winners) != len(bingos)):\n",
    "    print('ERROR WITH THE WINNERS LIST!')\n",
    "            \n",
    "last_number = numbers[max_count-1]\n",
    "last_pool = set(numbers[:max_count])\n",
    "print(' Position winners:')\n",
    "print(winners)\n",
    "\n",
    "print(f'\\n Numbers taken for last winner: {max_count}')\n",
    "print(numbers[:max_count])\n",
    "\n",
    "print(f'\\n Last number: {last_number}')"
   ]
  },
  {
   "cell_type": "code",
   "execution_count": 8,
   "id": "cf767612",
   "metadata": {},
   "outputs": [
    {
     "name": "stdout",
     "output_type": "stream",
     "text": [
      "Loser bingo: 21\n",
      "[[33. 13. 84. 68. 72.]\n",
      " [92. 76.  1. 40. 19.]\n",
      " [86. 75. 34. 98. 82.]\n",
      " [ 8.  3.  4. 28.  0.]\n",
      " [91. 60. 27. 81. 39.]]\n"
     ]
    }
   ],
   "source": [
    "# The loser bingo is the one that completes last (i.e., with the largest value in winners)\n",
    "index_max = max(range(len(winners)), key=winners.__getitem__)\n",
    "loser_bingo = bingos[index_max]\n",
    "print('Loser bingo: ' + str(index_max))\n",
    "print(loser_bingo)"
   ]
  },
  {
   "cell_type": "code",
   "execution_count": 9,
   "id": "a7defb0f",
   "metadata": {},
   "outputs": [
    {
     "name": "stdout",
     "output_type": "stream",
     "text": [
      "sum = 286\n",
      "Answer = 5434\n"
     ]
    }
   ],
   "source": [
    "#sum all unmarked numbers in the winner bingo (make a set for that)\n",
    "loser_set = set()\n",
    "for i in range(5):\n",
    "    loser_set.update(set(loser_bingo[i,:]))\n",
    "\n",
    "suma = int(sum(loser_set - last_pool))\n",
    "print( f'sum = {suma}' )\n",
    "print( f'Answer = {suma * last_number}' )"
   ]
  },
  {
   "cell_type": "code",
   "execution_count": null,
   "id": "877f8da3",
   "metadata": {},
   "outputs": [],
   "source": []
  }
 ],
 "metadata": {
  "kernelspec": {
   "display_name": "Python 3",
   "language": "python",
   "name": "python3"
  },
  "language_info": {
   "codemirror_mode": {
    "name": "ipython",
    "version": 3
   },
   "file_extension": ".py",
   "mimetype": "text/x-python",
   "name": "python",
   "nbconvert_exporter": "python",
   "pygments_lexer": "ipython3",
   "version": "3.8.8"
  }
 },
 "nbformat": 4,
 "nbformat_minor": 5
}
