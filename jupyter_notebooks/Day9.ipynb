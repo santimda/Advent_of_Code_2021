{
 "cells": [
  {
   "cell_type": "code",
   "execution_count": 11,
   "id": "432451a2",
   "metadata": {},
   "outputs": [],
   "source": [
    "import numpy as np"
   ]
  },
  {
   "cell_type": "markdown",
   "id": "768228d2",
   "metadata": {},
   "source": [
    "## First part"
   ]
  },
  {
   "cell_type": "code",
   "execution_count": 84,
   "id": "23bbd498",
   "metadata": {},
   "outputs": [
    {
     "name": "stdout",
     "output_type": "stream",
     "text": [
      "A.shape = (5, 10)\n",
      "[[2 1 9 9 9 4 3 2 1 0]\n",
      " [3 9 8 7 8 9 4 9 2 1]\n",
      " [9 8 5 6 7 8 9 8 9 2]\n",
      " [8 7 6 7 8 9 6 7 8 9]\n",
      " [9 8 9 9 9 6 5 6 7 8]]\n"
     ]
    }
   ],
   "source": [
    "# Read the puzzle: a heightmap with no separations \n",
    "A = np.genfromtxt('heightmap_example.txt', delimiter=1, dtype=int)\n",
    "#A = np.genfromtxt('heightmap.txt', delimiter=1, dtype=int)\n",
    "print(f'{A.shape = }') \n",
    "print(A)"
   ]
  },
  {
   "cell_type": "code",
   "execution_count": 85,
   "id": "a2368e4c",
   "metadata": {},
   "outputs": [
    {
     "name": "stdout",
     "output_type": "stream",
     "text": [
      "low_points = [1, 0, 5, 5]\n"
     ]
    }
   ],
   "source": [
    "# neighbours (nb) are in the horizontal or vertical direction\n",
    "def locate_neighbours(i,j):\n",
    "    '''Define the positions of the neighbours:'''\n",
    "    # 1) in the four corners there are only 2 neighbours\n",
    "    if i == 0 and j == 0: \n",
    "        nb_indices = [ (i, j+1), (i+1, j) ]\n",
    "    elif i == 0 and j == m-1:\n",
    "        nb_indices = [ (i, j-1), (i+1, j) ]\n",
    "    elif i == n-1 and j == 0:\n",
    "        nb_indices = [ (i, j+1), (i-1, j) ]\n",
    "    elif i == n-1 and j == m-1:\n",
    "        nb_indices = [ (i, j-1), (i-1, j) ]\n",
    "    # 2) In the edges (but not corners) there are three neighbours\n",
    "    elif i == 0:\n",
    "        nb_indices = [ (i, j-1), (i, j+1), (i+1,j)]\n",
    "    elif i == n-1:\n",
    "        nb_indices = [ (i, j-1), (i, j+1), (i-1,j)]\n",
    "    elif j == 0:\n",
    "        nb_indices = [ (i, j+1), (i-1, j), (i+1,j)]\n",
    "    elif j == m-1:\n",
    "        nb_indices = [ (i, j-1), (i-1, j), (i+1,j)]\n",
    "    else: #  if i != 0 and i != n-1 and j != 0 and j != m-1:\n",
    "        nb_indices = [ (i, j-1), (i, j+1), (i-1, j), (i+1,j)]\n",
    "    return(nb_indices)\n",
    "        \n",
    "# Now we search for the low points and store them in a list        \n",
    "low_points = []\n",
    "low_points_indices = []\n",
    "n, m = A.shape\n",
    "for i in range(n):\n",
    "    for j in range(m):\n",
    "        nb_indices = locate_neighbours(i,j)            \n",
    "        nb_values = set()\n",
    "        for pos in nb_indices:\n",
    "            #print(A[pos[0],pos[1]])\n",
    "            nb_values.add(A[pos[0],pos[1]])\n",
    "        #print(nb_values)\n",
    "        #print(f'{i=} {j=}  {A[i,j]=}  {nb_values=}')\n",
    "        if A[i,j] < min(nb_values):\n",
    "            low_points.append(A[i,j])\n",
    "            low_points_indices.append([i,j])\n",
    "        #print(f'{i =} {j=} {A[i,j] for i,j in range(i-1,i+2), range(j-1,j+2)}')\n",
    "        #neighbours = set(A[i, j])\n",
    "        #print(neighbours)\n",
    "print(f'{low_points = }')"
   ]
  },
  {
   "cell_type": "code",
   "execution_count": 86,
   "id": "10deb342",
   "metadata": {},
   "outputs": [
    {
     "name": "stdout",
     "output_type": "stream",
     "text": [
      "risk_level = 15\n"
     ]
    }
   ],
   "source": [
    "#The risk level of a low point is 1 plus its height.\n",
    "risk_level = len(low_points) + sum(low_points)\n",
    "print(f'{risk_level = }')\n",
    "\n",
    "# 1632 is too high!!! "
   ]
  },
  {
   "cell_type": "code",
   "execution_count": 87,
   "id": "b8d76a1a",
   "metadata": {},
   "outputs": [
    {
     "data": {
      "text/plain": [
       "[[0, 1], [0, 9], [2, 2], [4, 6]]"
      ]
     },
     "execution_count": 87,
     "metadata": {},
     "output_type": "execute_result"
    }
   ],
   "source": [
    "low_points_indices"
   ]
  },
  {
   "cell_type": "markdown",
   "id": "6333b4f0",
   "metadata": {},
   "source": [
    "## Second part"
   ]
  },
  {
   "cell_type": "markdown",
   "id": "7066f8b5",
   "metadata": {},
   "source": [
    "It is too hard :( "
   ]
  },
  {
   "cell_type": "code",
   "execution_count": null,
   "id": "80417c43",
   "metadata": {},
   "outputs": [],
   "source": []
  }
 ],
 "metadata": {
  "kernelspec": {
   "display_name": "Python 3",
   "language": "python",
   "name": "python3"
  },
  "language_info": {
   "codemirror_mode": {
    "name": "ipython",
    "version": 3
   },
   "file_extension": ".py",
   "mimetype": "text/x-python",
   "name": "python",
   "nbconvert_exporter": "python",
   "pygments_lexer": "ipython3",
   "version": "3.8.8"
  }
 },
 "nbformat": 4,
 "nbformat_minor": 5
}
