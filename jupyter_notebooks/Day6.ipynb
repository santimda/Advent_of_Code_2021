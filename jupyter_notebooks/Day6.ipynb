{
 "cells": [
  {
   "cell_type": "code",
   "execution_count": 1,
   "id": "432451a2",
   "metadata": {},
   "outputs": [],
   "source": [
    "import numpy as np"
   ]
  },
  {
   "cell_type": "markdown",
   "id": "768228d2",
   "metadata": {},
   "source": [
    "## First part"
   ]
  },
  {
   "cell_type": "code",
   "execution_count": 2,
   "id": "23bbd498",
   "metadata": {},
   "outputs": [
    {
     "name": "stdout",
     "output_type": "stream",
     "text": [
      "['2,5,5,3,2,2,5,1,4,5,2,1,5,5,1,2,3,3,4,1,4,1,4,4,2,1,5,5,3,5,4,3,4,1,5,4,1,5,5,5,4,3,1,2,1,5,1,4,4,1,4,1,3,1,1,1,3,1,1,2,1,3,1,1,1,2,3,5,5,3,2,3,3,2,2,1,3,1,3,1,5,5,1,2,3,2,1,1,2,1,2,1,2,2,1,3,5,4,3,3,2,2,3,1,4,2,2,1,3,4,5,4,2,5,4,1,2,1,3,5,3,3,5,4,1,1,5,2,4,4,1,2,2,5,5,3,1,2,4,3,3,1,4,2,5,1,5,1,2,1,1,1,1,3,5,5,1,5,5,1,2,2,1,2,1,2,1,2,1,4,5,1,2,4,3,3,3,1,5,3,2,2,1,4,2,4,2,3,2,5,1,5,1,1,1,3,1,1,3,5,4,2,5,3,2,2,1,4,5,1,3,2,5,1,2,1,4,1,5,5,1,2,2,1,2,4,5,3,3,1,4,4,3,1,4,2,4,4,3,4,1,4,5,3,1,4,2,2,3,4,4,4,1,4,3,1,3,4,5,1,5,4,4,4,5,5,5,2,1,3,4,3,2,5,3,1,3,2,2,3,1,4,5,3,5,5,3,2,3,1,2,5,2,1,3,1,1,1,5,1\\n']\n",
      "[2, 5, 5, 3, 2, 2, 5, 1, 4, 5, 2, 1, 5, 5, 1, 2, 3, 3, 4, 1, 4, 1, 4, 4, 2, 1, 5, 5, 3, 5, 4, 3, 4, 1, 5, 4, 1, 5, 5, 5, 4, 3, 1, 2, 1, 5, 1, 4, 4, 1, 4, 1, 3, 1, 1, 1, 3, 1, 1, 2, 1, 3, 1, 1, 1, 2, 3, 5, 5, 3, 2, 3, 3, 2, 2, 1, 3, 1, 3, 1, 5, 5, 1, 2, 3, 2, 1, 1, 2, 1, 2, 1, 2, 2, 1, 3, 5, 4, 3, 3, 2, 2, 3, 1, 4, 2, 2, 1, 3, 4, 5, 4, 2, 5, 4, 1, 2, 1, 3, 5, 3, 3, 5, 4, 1, 1, 5, 2, 4, 4, 1, 2, 2, 5, 5, 3, 1, 2, 4, 3, 3, 1, 4, 2, 5, 1, 5, 1, 2, 1, 1, 1, 1, 3, 5, 5, 1, 5, 5, 1, 2, 2, 1, 2, 1, 2, 1, 2, 1, 4, 5, 1, 2, 4, 3, 3, 3, 1, 5, 3, 2, 2, 1, 4, 2, 4, 2, 3, 2, 5, 1, 5, 1, 1, 1, 3, 1, 1, 3, 5, 4, 2, 5, 3, 2, 2, 1, 4, 5, 1, 3, 2, 5, 1, 2, 1, 4, 1, 5, 5, 1, 2, 2, 1, 2, 4, 5, 3, 3, 1, 4, 4, 3, 1, 4, 2, 4, 4, 3, 4, 1, 4, 5, 3, 1, 4, 2, 2, 3, 4, 4, 4, 1, 4, 3, 1, 3, 4, 5, 1, 5, 4, 4, 4, 5, 5, 5, 2, 1, 3, 4, 3, 2, 5, 3, 1, 3, 2, 2, 3, 1, 4, 5, 3, 5, 5, 3, 2, 3, 1, 2, 5, 2, 1, 3, 1, 1, 1, 5, 1]\n"
     ]
    }
   ],
   "source": [
    "# Read the puzzle, it contains a list of initial ages of fishes\n",
    "t0_raw = []\n",
    "#with open('fish_example.txt') as f:\n",
    "with open('fish.txt') as f:\n",
    "    t0_raw = f.readlines()\n",
    "print(t0_raw)\n",
    "\n",
    "# Convert from string to a list of initial ages\n",
    "t0s = t0_raw[0].strip('\\n').split(',')\n",
    "t0s = [int(t0) for t0 in t0s]\n",
    "print(t0s)"
   ]
  },
  {
   "cell_type": "code",
   "execution_count": 3,
   "id": "726dcab4",
   "metadata": {},
   "outputs": [],
   "source": [
    "ts = t0s.copy()\n",
    "number_of_days = 100\n",
    "for n in range(number_of_days):\n",
    "    ts_new = ts\n",
    "    #print('After ' + str(n) + ' days: ' + str(ts_new) )\n",
    "    for i,t in enumerate(ts):\n",
    "        if t == 0:\n",
    "            ts_new.append(9)\n",
    "            ts_new[i] = 6\n",
    "        elif t!= 0:\n",
    "            ts_new[i] = t-1\n",
    "            \n",
    "    ts = ts_new.copy()"
   ]
  },
  {
   "cell_type": "code",
   "execution_count": 4,
   "id": "f3f25cd3",
   "metadata": {},
   "outputs": [
    {
     "name": "stdout",
     "output_type": "stream",
     "text": [
      "Number of fishes after 100 days: 2012396\n"
     ]
    }
   ],
   "source": [
    "print(f'Number of fishes after {number_of_days} days: {len(ts_new)}')"
   ]
  },
  {
   "cell_type": "markdown",
   "id": "6333b4f0",
   "metadata": {},
   "source": [
    "## Second part"
   ]
  },
  {
   "cell_type": "markdown",
   "id": "8636d360",
   "metadata": {},
   "source": [
    "The previous formalism is too slow for calculating the number of fishes after 256 days! \n",
    "A smarter approach: calculate only how many new fishes arise from an initial fish of a certain age after n_days. Then multiply by the total number of fishes with that initial age. \n",
    "Even smarter and faster: only count how many fishes have each of the 8 possible ages."
   ]
  },
  {
   "cell_type": "code",
   "execution_count": 5,
   "id": "8c21a7ba",
   "metadata": {},
   "outputs": [],
   "source": [
    "def new_fishes_fast(t0, n_days):\n",
    "    # Fishes can have counters 0, 1, 2, ..., 7, 8 (in total, 8+1)\n",
    "    max_counter = 8\n",
    "    counters = np.zeros((max_counter+1), dtype=np.uint32)\n",
    "    counters[t0] = 1\n",
    "    counters_new = np.zeros((max_counter+1), dtype=np.uint32)\n",
    "    for n in range(n_days):\n",
    "        # All the fishes lose one day (move one place in the counter array),\n",
    "        # except fishes with zero days which go to the 6th place (index 5).\n",
    "        # Also new fishes in the last place are added equal to the number of \n",
    "        # fishes with counter = 0\n",
    "        for i in range(max_counter+1):\n",
    "            if i == 6:\n",
    "                counters_new[i] = counters[i+1] + counters[0]\n",
    "            elif i == max_counter:\n",
    "                counters_new[i] = counters[0]\n",
    "            else:\n",
    "                counters_new[i] = counters[i+1]\n",
    "        \n",
    "        #Save the new counter for the next loop\n",
    "        counters = np.copy(counters_new)\n",
    "        #The number of fishes is the add of all fishes in every counter place\n",
    "    return(sum(counters))\n",
    "\n",
    "def new_fishes(t0, n_days):\n",
    "    #ts = np.array([t0], dtype=np.uint8)\n",
    "    ts = [t0]\n",
    "    for n in range(n_days):\n",
    "        ts_new = ts\n",
    "        #print('After ' + str(n) + ' days: ' + str(ts_new) )\n",
    "        for i,t in enumerate(ts):\n",
    "            if t == 0:\n",
    "                ts_new.append(9)\n",
    "                ts_new[i] = 6\n",
    "            elif t!= 0:\n",
    "                ts_new[i] = t-1\n",
    "\n",
    "        ts = ts_new.copy()\n",
    "    return(len(ts))"
   ]
  },
  {
   "cell_type": "code",
   "execution_count": 6,
   "id": "88bcee0f",
   "metadata": {
    "scrolled": true
   },
   "outputs": [
    {
     "name": "stdout",
     "output_type": "stream",
     "text": [
      "Number of fishes after 256 days: 1601616884019\n"
     ]
    }
   ],
   "source": [
    "total = 0\n",
    "total_fast = 0\n",
    "number_of_days = 256\n",
    "for t0 in set(t0s):\n",
    "    #total += new_fishes(t0, number_of_days) * t0s.count(t0)\n",
    "    total_fast += new_fishes_fast(t0, number_of_days) * t0s.count(t0)\n",
    "    \n",
    "#print(f'Number of fishes after {number_of_days} days: {total}')\n",
    "print(f'Number of fishes after {number_of_days} days: {total_fast}')"
   ]
  },
  {
   "cell_type": "code",
   "execution_count": 7,
   "id": "783af71f",
   "metadata": {},
   "outputs": [
    {
     "name": "stdout",
     "output_type": "stream",
     "text": [
      "0 1 1\n",
      "1 1 1\n",
      "2 1 1\n",
      "3 2 2\n",
      "4 2 2\n",
      "5 2 2\n",
      "6 2 2\n",
      "7 2 2\n",
      "8 2 2\n",
      "9 2 2\n",
      "10 3 3\n",
      "11 3 3\n",
      "12 4 4\n",
      "13 4 4\n",
      "14 4 4\n",
      "15 4 4\n",
      "16 4 4\n",
      "17 5 5\n"
     ]
    }
   ],
   "source": [
    "number_of_days = 18\n",
    "t0 = 2\n",
    "for i in range(number_of_days):\n",
    "    print(i, new_fishes(t0, i), new_fishes_fast(t0,i))\n",
    "    \n",
    "#f'Number of fishes after {number_of_days} days: {total}'"
   ]
  },
  {
   "cell_type": "code",
   "execution_count": 8,
   "id": "457a423a",
   "metadata": {},
   "outputs": [],
   "source": [
    "#class Fish:\n",
    "#    \"\"\"A Fish class\"\"\"\n",
    "#    def __init__(self, age, timer):\n",
    "#        self.age = age\n",
    "#        self.timer = age\n",
    "#        \n",
    "#    def reproduce(self):\n",
    "#        self.age += 1\n",
    "#        if self.timer != 0:\n",
    "#            self.timer -= 1\n",
    "#        elif self.timer == 0:\n",
    "#            self.timer = 6\n",
    "#\n",
    "#fishes = [Fish(t0, t0) for t0 in t0s]\n",
    "#number_of_days = 18\n",
    "#for i in range(number_of_days):\n",
    "#    for fish in fishes:\n",
    "#        fish.reproduce()"
   ]
  }
 ],
 "metadata": {
  "kernelspec": {
   "display_name": "Python 3",
   "language": "python",
   "name": "python3"
  },
  "language_info": {
   "codemirror_mode": {
    "name": "ipython",
    "version": 3
   },
   "file_extension": ".py",
   "mimetype": "text/x-python",
   "name": "python",
   "nbconvert_exporter": "python",
   "pygments_lexer": "ipython3",
   "version": "3.8.8"
  }
 },
 "nbformat": 4,
 "nbformat_minor": 5
}
