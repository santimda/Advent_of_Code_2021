{
 "cells": [
  {
   "cell_type": "code",
   "execution_count": 1,
   "id": "8a444502",
   "metadata": {},
   "outputs": [],
   "source": [
    "import numpy as np\n",
    "import pandas as pd"
   ]
  },
  {
   "cell_type": "code",
   "execution_count": 2,
   "id": "a1e0897a",
   "metadata": {},
   "outputs": [
    {
     "name": "stdout",
     "output_type": "stream",
     "text": [
      "    direction  steps\n",
      "0     forward      4\n",
      "1        down      9\n",
      "2     forward      6\n",
      "3        down      5\n",
      "4          up      2\n",
      "..        ...    ...\n",
      "995   forward      6\n",
      "996   forward      6\n",
      "997        up      2\n",
      "998      down      8\n",
      "999   forward      5\n",
      "\n",
      "[1000 rows x 2 columns]\n"
     ]
    }
   ],
   "source": [
    "data = pd.read_csv('move.txt', sep=\" \", header=None)\n",
    "data.columns = [\"direction\", \"steps\"]\n",
    "print(data)"
   ]
  },
  {
   "cell_type": "markdown",
   "id": "79e9058a",
   "metadata": {},
   "source": [
    "## 1st part"
   ]
  },
  {
   "cell_type": "code",
   "execution_count": 3,
   "id": "e3fa3e94",
   "metadata": {},
   "outputs": [
    {
     "name": "stdout",
     "output_type": "stream",
     "text": [
      "1727835\n"
     ]
    }
   ],
   "source": [
    "horizontal = 0\n",
    "depth = 0\n",
    "\n",
    "i=0\n",
    "for i in range(len(data[0:])):\n",
    "#    print(data[i,0])\n",
    "    if data[\"direction\"][i] == \"forward\":\n",
    "        horizontal += data[\"steps\"][i]\n",
    "    if data[\"direction\"][i] == \"down\":\n",
    "        depth += data[\"steps\"][i]\n",
    "    if data[\"direction\"][i] == \"up\":\n",
    "        depth -= data[\"steps\"][i]\n",
    "        \n",
    "    i+=1\n",
    "        \n",
    "print(horizontal * depth)"
   ]
  },
  {
   "cell_type": "markdown",
   "id": "4a3b66e9",
   "metadata": {},
   "source": [
    "## 2nd part"
   ]
  },
  {
   "cell_type": "code",
   "execution_count": 4,
   "id": "306b4323",
   "metadata": {},
   "outputs": [
    {
     "name": "stdout",
     "output_type": "stream",
     "text": [
      "1544000595\n"
     ]
    }
   ],
   "source": [
    "aim = 0\n",
    "horizontal = 0\n",
    "depth = 0\n",
    "\n",
    "i=0\n",
    "for i in range(len(data[0:])):\n",
    "    if data[\"direction\"][i] == \"down\":\n",
    "        aim += data[\"steps\"][i]\n",
    "    if data[\"direction\"][i] == \"up\":\n",
    "        aim -= data[\"steps\"][i]\n",
    "    if data[\"direction\"][i] == \"forward\":\n",
    "        horizontal += data[\"steps\"][i]\n",
    "        depth += aim * data[\"steps\"][i]\n",
    "        \n",
    "    i+=1\n",
    "        \n",
    "print(horizontal * depth)"
   ]
  },
  {
   "cell_type": "code",
   "execution_count": null,
   "id": "e9607158",
   "metadata": {},
   "outputs": [],
   "source": []
  }
 ],
 "metadata": {
  "kernelspec": {
   "display_name": "Python 3",
   "language": "python",
   "name": "python3"
  },
  "language_info": {
   "codemirror_mode": {
    "name": "ipython",
    "version": 3
   },
   "file_extension": ".py",
   "mimetype": "text/x-python",
   "name": "python",
   "nbconvert_exporter": "python",
   "pygments_lexer": "ipython3",
   "version": "3.8.8"
  }
 },
 "nbformat": 4,
 "nbformat_minor": 5
}
