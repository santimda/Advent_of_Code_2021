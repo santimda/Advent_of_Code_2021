{
 "cells": [
  {
   "cell_type": "code",
   "execution_count": 12,
   "id": "7193a07d",
   "metadata": {},
   "outputs": [],
   "source": [
    "import numpy as np"
   ]
  },
  {
   "cell_type": "code",
   "execution_count": 13,
   "id": "09777d79",
   "metadata": {},
   "outputs": [],
   "source": [
    "depths = np.loadtxt('depths.txt')"
   ]
  },
  {
   "cell_type": "markdown",
   "id": "1d6d6cf0",
   "metadata": {},
   "source": [
    "## First exercise: compare two continuos measurements"
   ]
  },
  {
   "cell_type": "code",
   "execution_count": 14,
   "id": "de1a4ac6",
   "metadata": {},
   "outputs": [
    {
     "name": "stdout",
     "output_type": "stream",
     "text": [
      "1527\n"
     ]
    }
   ],
   "source": [
    "count = 0\n",
    "for i in range(len(depths)-1):\n",
    "    if depths[i+1] > depths[i]:\n",
    "        count += 1\n",
    "        \n",
    "print(count)"
   ]
  },
  {
   "cell_type": "markdown",
   "id": "80c8fd25",
   "metadata": {},
   "source": [
    "## Second exercise: compare windows with three last measurements"
   ]
  },
  {
   "cell_type": "code",
   "execution_count": 16,
   "id": "b194c339",
   "metadata": {},
   "outputs": [
    {
     "data": {
      "text/plain": [
       "array([0., 0., 0., ..., 0., 0., 0.])"
      ]
     },
     "execution_count": 16,
     "metadata": {},
     "output_type": "execute_result"
    }
   ],
   "source": [
    "windows = np.zeros(len(depths)-2)\n",
    "windows"
   ]
  },
  {
   "cell_type": "code",
   "execution_count": 20,
   "id": "a4e40062",
   "metadata": {},
   "outputs": [
    {
     "data": {
      "text/plain": [
       "array([  339.,   374.,   405., ..., 22284., 22267., 22286.])"
      ]
     },
     "execution_count": 20,
     "metadata": {},
     "output_type": "execute_result"
    }
   ],
   "source": [
    "for i in range(len(depths)-2):\n",
    "    #windows[i] = depths[i] + depths[i+1] + depths[i+2] \n",
    "    windows[i] = sum(depths[i:i+3])\n",
    "\n",
    "windows"
   ]
  },
  {
   "cell_type": "code",
   "execution_count": 21,
   "id": "1ad31af9",
   "metadata": {},
   "outputs": [
    {
     "name": "stdout",
     "output_type": "stream",
     "text": [
      "1575\n"
     ]
    }
   ],
   "source": [
    "count2 = 0\n",
    "for i in range(len(windows)-1):\n",
    "    if windows[i+1] > windows[i]:\n",
    "        count2 += 1\n",
    "        \n",
    "print(count2)"
   ]
  },
  {
   "cell_type": "code",
   "execution_count": null,
   "id": "f52f52ae",
   "metadata": {},
   "outputs": [],
   "source": []
  }
 ],
 "metadata": {
  "kernelspec": {
   "display_name": "Python 3",
   "language": "python",
   "name": "python3"
  },
  "language_info": {
   "codemirror_mode": {
    "name": "ipython",
    "version": 3
   },
   "file_extension": ".py",
   "mimetype": "text/x-python",
   "name": "python",
   "nbconvert_exporter": "python",
   "pygments_lexer": "ipython3",
   "version": "3.8.8"
  }
 },
 "nbformat": 4,
 "nbformat_minor": 5
}
