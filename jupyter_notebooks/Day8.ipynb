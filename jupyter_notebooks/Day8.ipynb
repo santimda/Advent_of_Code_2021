{
 "cells": [
  {
   "cell_type": "code",
   "execution_count": 1,
   "id": "432451a2",
   "metadata": {},
   "outputs": [],
   "source": [
    "import numpy as np"
   ]
  },
  {
   "cell_type": "markdown",
   "id": "768228d2",
   "metadata": {},
   "source": [
    "## First part"
   ]
  },
  {
   "cell_type": "code",
   "execution_count": 66,
   "id": "23bbd498",
   "metadata": {},
   "outputs": [
    {
     "name": "stdout",
     "output_type": "stream",
     "text": [
      "['fdeba beagfd gbafe dagb dbf ecfad bd dgcaefb fbecgd abfecg ', 'dgfc egdbaf afgcbe eafdbcg bcgad bdg fdbacg gd ecabd bafgc ', 'dfebc bceadf ebacf gdceb fd dfea cdgfba afbgec dfb fdaecbg ', 'dbaef fabgd fcaedb cgadf aefbgd cabefg gfb bceagdf bg ebdg ', 'aebgd adg dg dgcabef facedg cfaebd dfbega begca bfgd dbafe ', 'bae febac abcgf eabfgd cbagfd gefcba abedfcg efcda eb becg ', 'edbcg ba afcdeg gbaedf gcabdf eabf bagde bga deabgcf edfga ', 'dbae dgfec egfbd fbgaed feb fcabdg be bfgda facebgd baefcg ', 'cdagbef cd bdgcf efcbg adbgf cdga egdabf acbdfg cdf caebfd ', 'abceg dbgca acfd ebagfdc dbecfg gdfbea dc dcg abfdcg gfbad ', 'bcdag acdgbef ebcdag facd dfgbe cfg bfagdc fc fbcgd bgfaec ', 'ca feacgb cedfgb bgaed gbaec acefdgb bfcge eafgcd acg fbac ', 'gbdcfa afdcb cebd fadce cbgfdea aec cdebfa ce caegfb daegf ', 'cb dcb fdbegc bgaed fcba dacgfe efcadb dceaf eacgfbd dbaec ', 'debgf gaecdfb gcbef cbgaf fbecag bce bgfcda ce aefc ebdgca ', 'cdbfega ae cedaf bedgcf ebac efadbg afcedb afe fgadc cdfbe ', 'aceg bcafgde deacgb fdcgab dacgb eafbcd dgcbe bdfge bce ce ', 'efcbda fcgbe efdgc efgdcab cagbe cbf bagf ecagdb bacefg fb ', 'bcgd egafb adgbcf cafged cegadfb gd dgf dbfag dfeacb dcabf ', 'bgeca fgcbe fcgd egfbd bcgdfe fc agbdef ecf dafgecb bdafec ', 'agb dbfa gbafcde afgcbe edfgb bagde cfdegb gbdefa ba caged ', 'bdf baefcdg df cafbgd bdcgef bcdeag bcgad cadf gfbad fbeag ', 'edagc egbcfad bcfdge agbdcf fbdage dcabg bga bgfdc fbca ba ', 'bgaf af bcdfge ecfagd fgcdb beacd gdecbfa bcafd fac bfdgac ', 'fagbdc fagdeb cebgf cbd ecagdb cade dagcebf dc becdg geabd ', 'dgfbeac abfge dcefag cga cgbd baced gc adfebc ecbag aedgbc ', 'cfdbe afge fa gdfbeca agfcbd abedgc fac cafbe ecfgab acgeb ', 'gebdcf cdbga eag ae dagecbf bgdfe ebgfad gabed dagfec feab ', 'gf gcbaf gfdc agf eafcb cadebfg cgfabd dbagc agdcbe egfbda ', 'cbed ebgad gadbfe bc bcfgea gebacd gceadfb cgfad cbg abcgd ', 'fdg dg acgfdbe gafdec cfbdg ebfgc gdeb bdcgef fbegca fbdca ', 'gfcbaed gfceda cadbg gafdb ca adc fbca dfcabg cedbg aegfdb ', 'agfcbd edcabg cdf cdgfabe debgcf fdgca bfac gdcab cf gedaf ', 'cdagb bae ea cdfebg febacd egdfb gdacfbe feag aedfbg gdabe ', 'dab cgaedb cafbg faced bdfe bd gfdeca dafgbec fcbda cadbef ', 'bde cbaed dcbf ecbag fcbdae acgfde dgafebc db fbdgea dacfe ', 'ag fgaecd egcbdaf ebacd gad dagbfe cfga fcegd dcbgfe gaced ', 'fdaegb dcgefa bfdec geca ge fge cdbafg decbgaf ecdfg cagdf ', 'ecgfab cgbdea dgabf dcfb bd dgcabf fgdeacb dba efagd cfabg ', 'dfcae cfegbd ade cdeabg egacdf gcfde da becfadg agfd efcba ', 'fdgeab adcbgfe edfca cebad gdbace dgcb beafgc bac cb gdeba ', 'cabdge fdgae fbgc fedgcb gfebacd dfbeg bf bdf ecgbd adecfb ', 'dfbgec feacgdb ca adgec cda ecba gdaef degbc abfdgc gdceab ', 'abd fbagec gfdbea dagc ad fcdbega bafcdg facbg ecbdf fbcad ', 'abf ebfdcg fgcdbae faegc bdgacf bfdec bade ceafdb ba eacbf ', 'ebcgf aedcb gbaecfd gd cgdeb cadfeb edga bdfgca cbgead cdg ', 'gdcaef dcgbe fbcdage bacge aec ea bfea bcafg aegbcf cfdgab ', 'facg aebfg ecfba bfaecd fbdge badcfeg cfgeba ega cadebg ag ', 'dacefg eb bdecf acbfge ecb bfcda decgf cgdebaf cbfgde gbde ', 'bd fbd bfcgde egbaf dafgceb cefgda fcbdae dfgeb gcdb cgfde ', 'gbdacf dacebf adgfbe aedfb acgbedf eacf ca dac aedcb bedgc ', 'cbd egdba ebfdga efadc gcdfabe bc decbga dbaec gfbecd bcag ', 'eacb fdeab fgcade cbdaf dea cfebgda ae bdegf cebdaf fgdcab ', 'cfd adbce cf bcdafg fcedb cbedfag fdgbe faegdb fceg gdcbef ', 'gfbdeac efdgac gcfb edbagf cebda cafeb abf cgfeab bf gacfe ', 'dcfge fabgec beg abdg gbaedcf gcdbe bg ebcad cfdaeb ebagcd ', 'aecb daefbg ebdfc aedfcg efbad cdgabfe cfgdb fdbeca ce cfe ', 'gadebf fg fga acbgfe agbcd deabf bdagf cedbfa dbafceg dfeg ', 'afed cdbge dag gabfe fagbde gadbcf adebg ad agfecb gedfabc ', 'de gcdeaf agbcedf efacg gdcea efgacb edc fegd adcgb daecbf ', 'becadgf edagfc fcg edbagf cg adfgcb dfega acgfe gecd bfeca ', 'cfaed agcedf db dfcbe bcd dbefca dcbgfa gbecf dcaegfb bdea ', 'fcdagb ca aedfcgb fca gafbd abegfd afbcg fbgce aefcbd acdg ', 'da dcefgba cdgef egcabf baed fagbcd fadbge dag faebg agedf ', 'fbdec cdaeb dac dbage egca ecbdgaf debcga ca abdgfe dagcbf ', 'bfdecg dbaecg fcd bedaf fc dcbafg cegf fcdeb cbdfage bcdeg ', 'cg cadegb badfce gfdc agfbc cadbf egafb dbecfag cbg dagcbf ', 'acgbf afbged fcadgb dcefg gebcaf ad adcb acdefbg cdgfa daf ', 'dgb ecfbd fbgcd aegdbcf adcfg gfba gbaced acfgde fcabgd bg ', 'febg bcfaed efagdc fba ebafgc aecbgdf fegca bcgad bf acfbg ', 'adc ebdfacg ad badec efbdcg fade bcgdaf faedbc baecg cbfde ', 'afbgd agdcef dc cda bedcag cgaefb fdec cgfae fgadc deabgfc ', 'facbe edcbf ebdgac fa dfgeac gaebc acf cfaegb dcfegba bfag ', 'cfebdag daecfb bg gecbdf ebagc ecagd gbe abfgec gabf ebfac ', 'bgefdca fecbgd ec bce cedab ecaf bdeafg cgbda dbaef bcfdae ', 'gedbac cbade edfgbac gabfe cfaeb caf fc dcbf cdfbea cdefga ', 'cfgaed cbda abgfde cea abcdfeg adcgbe ac fcbge egdab eagbc ', 'cbfaged afdgec ed fdea edcfg dce fdgac bfdagc fecbg ebcdga ', 'gafec afegb bgafed bafd fb egbda edbgac cedgfb ebf bedgfca ', 'cf gfc fecgd cebf dgecbaf faedgb afbgcd dcaeg efbdg dbcefg ', 'ea gafecd fbgac fcedb defcab fbeca bfdcge baed dabfceg fae ', 'afdgb acg aefdgc cebgd ac begdfac dacbfg gbcad abgfde cfab ', 'cdbga acedbg gefcd abdf fac af bfgaec ecfagdb gfdac bcdfag ', 'edcagf feadg dab adgeb gceab dgfabc fdbe befcadg fagbed bd ', 'bga baedg abdc ab gefdb gadceb gcdae aedgcbf gcebaf cfdega ', 'afb eabdgf eafgcb gcdabe ecfa edbgfac fbdgc fa bacfg ceagb ', 'da gdbcef facdeg dafbc efdcb adc edba gbcfa acdbef deafcbg ', 'acbg ecbdg ecbgfda gdabec bg daefbc cefgd dceba dgb afebdg ', 'dgbeca befcd gcfaed edgac agefcbd ceadb ba abe gcba daebgf ', 'cgbafde ed bdce gde bdaegc eagbfd cgbad eadgc facbgd cgfae ', 'deacfbg afc dfcea cgaed gdbcea cf dcfg fbeacg gdfcae baedf ', 'gca fagdbe cedbgaf dgbc gdaec badeg edafc gc abedcg afbgec ', 'cdfeab dbcfa bdg bg fgbc adcgb gdfeab ecgbdfa gdeca cfadgb ', 'gbfec bgfde gacedb fcgea cb cgeafd bcg aebgcf gdaebcf afbc ', 'edgf bcgef edcgfb gfcabd fbdcae ef efc acebg gcbdfea fgcdb ', 'cdbafge agdebc bcg dfbgac cged ebagd degafb bfcea gc caegb ', 'ea dagfbe fae fcdgbe gfaecbd decfb dacbfe abec gdafc caedf ', 'dg cefga bfaed fdecgb bdag bdaecfg fgedab edg adfecb efdag ', 'degcfb bdcfg edgb cdfab bcadgef fgcdea gdf becfg dg egfbca ', 'dfbg bcgeda faecdg dab bfaec dbegacf geafd eabfd agbfde db ', 'ecfagdb db gadecb dagfb caefgb gbd fbeag facgd bdfe efadgb ', 'edbcga fcdgbe ebcdg bcfage fb bfcgd bgf gcdaf bgfcdea fbde ', 'efagd eb dafcgb ebfad eabdgcf cbed aecfbd egbcfa feb adcbf ', 'bdge fdabce begfcd gcbdf bd ebfgc fadcg dagecbf dfb bcafge ', 'geacf cfb gbfcde dfbga bc fbadgce fgdcba cabgf fdaegb dacb ', 'fecdbg gbcaf ebgacfd acgfed gbad gb fbaec afcgd bafdcg fgb ', 'fdce ebagf fdcegb fgacbd dcbeg geadbc cf gebcf gabefdc cbf ', 'adcfeg cfgad efgcdba fecda fec gabcdf ef bacde bfdceg gefa ', 'afeb fbegd daefg agdbcfe agdcf ega adbegc dbgafe efcdbg ae ', 'fdegbca gefbda egbf dbagc gfd bgdaf adgfec fg bfead dfceab ', 'dbcaef debfgc gfebdca bcaed ad baceg dca deaf edfbc dagcfb ', 'beadc fc faedc dbafeg gdfea gafc fegcad cgebadf dfgbec fcd ', 'fdaceg edgacb dbcg cda cd ebfad acbeg gdfbace dbaec bcfeag ', 'fgcebd dgbcae bfcgad ga bga bfcgd gbfda acfg dbafe fbcgead ', 'cfaebdg dcg gedbfc gefdba egafcd dc cbde bedfg bcgdf cabgf ', 'fagcbd fedbg fcabge ebgad cbfdg cfedgab feb fdce dfcgeb ef ', 'becgdf efcbda cgbd gdcfe gc gaedf efbcd cfg fbegcad gbfcae ', 'da adbcgef dacf eadfcb bfcage eafbc ceabd begfda bdceg bda ', 'agebf adfb fabedg cgafde dga beadfcg cdbeg egbad cfabeg da ', 'eac fcdabeg gdabc ebadc bcge gfecad deafb bdgfac dgaecb ce ', 'gfedbc gcdfb ecdfga df cfegba defb dbcga gdf cgfbead ecgbf ', 'agbde bgdfca deacgb agbef aebcgdf afg fbecg aedbfg afed af ', 'gfbac gaecdb baefc fdebgca fgbadc ec adbef efgc fabegc cea ', 'ec dagbc cagfbd adbecg bfdge gebcdaf ced gdebc fagced bcea ', 'geab ebgdfa eafbd dafbc efdgb aed ae bgcaefd dcegfb aegdcf ', 'bdaeg aebcd cgebad dbc cb fecbgd dafce bcgfdea gcab gfdbae ', 'dfb egfbdc ceabdfg cfbae fgbade fdbec bd gedfc deafgc cbdg ', 'dfcaeg bagcefd fceab ad dae faedb fcabed ebfgd fcabeg adcb ', 'afgcd acgebf da agbdfc cad gcdfe dagb dafbec dagbefc abcgf ', 'cabd bce cb cfbdea adbef agcfbe aebcdfg fabdeg dgcfe fbdec ', 'efcbga cgfbaed bcfga ecgbf egdbc deabfc fdgcba fage fce ef ', 'gbcda ad gacfb dba gfacbd fbgdeca aecbfg fdac gfabde bdgce ', 'fcaegb baegdf gfaced gedfa dcebg dbgea agedcbf abdf bga ba ', 'ebafg gdebafc gedacb gcdefb agbdfc cf gebcd gcf cfde cgbfe ', 'fce cbaedf cgbaedf ec bfega dcea agbdfc bfdegc dacbf cefab ', 'dcfbg fd egcdba efcgb bfad cefagd abegdfc gcafdb cabgd fdg ', 'abfegc gecdabf cedb bdg dgcbf gaebdf db fgacd ecfgb egcfdb ', 'bafeg febdac ged bfcedg gd cbafedg edcaf gafdce cagd fadge ', 'cfdegb efdc gcadbe gdbaf ebadgfc fc gdebc dfcgb fgc egcbaf ', 'aecfgd efgab bdagfc cedf cge agfce afcdg cdeabg dgbaefc ec ', 'eagdbc ga fecbda ecdaf fdgbc abgdcef afdcg fega cag eafgdc ', 'fabedg cedg cbefga dga gacedf gd fdcga afecg bfdac gabfedc ', 'begadc gcfeab dgcba defbac gc fbdag agdebcf degc cag abecd ', 'fd dcgba gdbfca afedcgb gbadef cagfe fad dfcb acgfd dacgeb ', 'fb fceab fdeb bgfaced acdfbe gbcafd cdabe abf agcef baecdg ', 'df fdb egcbd gfed bcaegd abcfg ceadbf egcdbf aegfdcb dbgfc ', 'bgedfa dg bdcgeaf cbfad decg efcdga aecgfb aegcf cgdfa gad ', 'gadfe cfgead cdgbae cfage de dbceagf ecgafb cfed dea fgbad ', 'dfab gaecbd degfc bcegfa dgebfa edb ebdfg dbceagf gafeb bd ', 'edcbg dgbfc bdfecag cfegbd eg gebfda dcaeb afcdgb cgef ebg ', 'ba gfbdec gacfd bfcdae caeb egbfacd cbedf edabgf bad cadbf ', 'gba dabgfec ga fbadc dafgcb fdabg dbecaf agfceb cdag bfegd ', 'abgdf gcabfd cgabde agedfcb ab cegfda dbfeg afcgd acfb gba ', 'bdecf dgebfc bgcd fdgae gec cg gbacef bacefd cgedf afbecgd ', 'gdecbfa cd bfcagd fagec dfcae dcf adgcfe eabfd cdge gcbeaf ', 'fdecb adfce bc ecagbd bdc facgedb bfac fbged egdacf fcadbe ', 'fgdba fbae bcafedg dfgebc fag cbgad gedacf gdfeb fbdage fa ', 'dafbg abfed fe eaf degbca fegabc bafdec dcef aedbc afdcegb ', 'adcegb cf dceab caef ebgadfc dcabfe cbdfe fbc degbf gbdfca ', 'cebdfag acfgbd gcbef bcf dfegc bf egacfd bfde gbfdec abceg ', 'bgfaedc gcdfb cadbge fdac bgfdac cf eabfgc bfc acdbg fgbed ', 'fgdc fgceab edf feadg beadfc bdgae egdcfba efagc fd cdagef ', 'bfg ecabg cabdgfe fdgc fgbac dafbge gf fcdbag fadcbe fdcab ', 'aefdgb agcfe dfeca dgecfa feg deabgfc ge gacfb defabc dceg ', 'afbeg fagd adgfbe abefcdg bdefca ga gab ecdgab abefd bgfce ', 'fbgea ebfgdca badegc bac cb gceba eadcgf daegc gcdafb bedc ', 'cfbega dgba gb fbegd gdeabf bfcadeg egdcf fgb badef fdbaec ', 'gdecaf fabed bdgcae dcgfba ce bdfegca dcaeb gbcda cae ebgc ', 'bcgdfa cda agecfdb cedba cafdeb caefbg abfec edcf debag cd ', 'fdbagce abfc cageb cagfe eba gadefc dgcbe adebgf geafbc ab ', 'gcdfa cadeg dcaeb adcegf gfcdba fcabgde ge gfed gea gfeacb ', 'bfegdac gcabf fdg adgfb gefdcb gd abfed gdae dfgbae befacd ', 'acebgd ceg gcabd afcbgde ebcd afbdcg cbgea ec gbfae gdfeac ', 'degfab fbade ac acdf feacb dgcbea cfbge abc dgfaecb bdecfa ', 'adegcfb gf acfdbe ecfdb dgceaf dgfbe dgbae feg fcbg dfcbge ', 'fbacde gfacbe eg dcge fdbga beg bedgcf dcbef fcbaedg bgfde ', 'dgafc dfbegc fagbed cfba adfbcg cfg cf dabfg gafcdbe dgaec ', 'defcga gdfc afc cadebf bceag degaf fc gaedfb dabcgfe eagfc ', 'dcefb feb gcdeb efdg fcagbe becgad bfcda gabfdec fe ebfdgc ', 'fgebac faegb gcebfad fb fecga bgf ecbf abged gcefad fbgacd ', 'cbdgfae fbe gdfbce egbda abedf cdfea badcge agfb edbafg fb ', 'gbdc gb cfdegba bdgae gab gcafbe fadeb ecfgda gbdace cgaed ', 'db dgefb eafdbgc ecfbg bcegdf bdg fbcd gefad ecfbag adbgce ', 'ab bcfa bacfed dba befad fadeg bcdaeg abcgdfe bdecfg bcfde ', 'baecfg edgba cdgae fced cd egfdca cgd acedfgb dbfgca feagc ', 'cdb bgfeda acdeb becfda fedba dfca gbeca dbgecf dc aedcfbg ', 'efgcadb dgebf baedf gcedfa bfg gb eacgbf dgefc bdcg cgbfde ', 'afebdgc gbfdc gbca defgb cdb bc bcfagd bcdfae edfgca fdacg ', 'bgfade cdgabef cfebd ce febad dgafce dce abce cgbdf edcafb ', 'gefbcd de dgfce gfdaecb gafec bfdcg bdge abdfgc edf dfbcea ', 'cgafeb egadbc bagce gedcafb afcbd fgae bfeac fdegbc feb fe ', 'bcdea dgbfc gdae dabcg ecdfab gca ag dcebgaf gadecb beafcg ', 'gafcb eba acbfeg cagbfd ecaf fcbedag bdcge ea cagbe fdeabg ', 'cdegfb cdagef bgf dfgcaeb eadgb fegac febga bf bfcaeg cfba ', 'bgedfa dfbca ebdgcf fbgcd dfcega cgf gfbcead degfb ecbg gc ', 'agebd bcegda aeg fedabc bdgafce acgd fbgde ag caegbf cbdae ', 'cbdfe feacd geacfd dbaefg cbgfd aedfbc ceba eb bde egacfdb ', 'egd ge afcbedg bfgeda bdgefc gbce bcgdf fdacbg aecfd dcgfe ', 'bg gacbe cefgad cbgf cbead gba fcedagb ebdafg gcfbae gacfe ', 'afedg edabg fcdg bfcega ebfdca decaf gf gfa acegfbd afedcg '] [' dgba dfb ecadf bdf', ' gd gbd dg febgac', ' cgafbde efbagc faed gecdb', ' gdbfae geafdbc bafgdce dbgfa', ' abdecf eafbd fdgb ebdfgca', ' fcgab gafbed aedcfbg eb', ' aebf ab bdfecag abfe', ' bagecf efb eb fbcgad', ' fbdga fcd fcd adcg', ' cdg dbcagf acdf gbcdef', ' fc dafbcg fc cbdgae', ' ca cag gac becga', ' aedfbgc eca eca cebd', ' cbd cb bagde dcb', ' ebcfgad ec gefcba bec', ' fabedcg cafbed efa badgcef', ' dbfge bdcafg fbdcga ebdfg', ' fgab aecgb acfgbe agecfbd', ' adbcf dg gd dgf', ' fc febdag cgfd dfcbgae', ' bdfa bafd cfdgeba agb', ' ebacfgd facd cdgfbe df', ' cebgfda gdcfabe gfcdba bag', ' bagcedf fbedgc ebfgdc gbfa', ' gfbadec cdae dbc bcefg', ' bfcaged gac gebaf egdafc', ' adcfgeb bcadfg ebfac cfa', ' fadgecb fgbced dgcab ega', ' gf beafc fga fcgd', ' bacdg afbegdc bgc bcagdfe', ' fdg edbg edbg cgfbe', ' ca becadfg dcefga ca', ' fc cdf cf bcagdef', ' ea gefa agbde afge', ' db edfb bd dcafe', ' cadbe bcdf afebdg dcgfea', ' dag ag gda gacf', ' gdefc cgea dfacgb gedbaf', ' dab adb bfdc fcdbag', ' ade aed dfga ade', ' bdcea bgdc dagcfeb abc', ' fb aegfbcd bdf fbacged', ' ca dabfegc ca acdeg', ' edfagb bcedf dba fbdcag', ' fab fbdaecg dcabfg ba', ' adge fgbec cgd dgbcfa', ' bfea gfecadb gbafc gedafcb', ' fgca bdgef gafc acgf', ' bdge ecbfgd feacbgd efdabcg', ' dfbceag bd fgbdec gdbfec', ' ca cad fcbdaeg bdagcf', ' cdb egdba acbg acgb', ' ae facbdg bdfecga baec', ' fegc cf gfdabe adbcgf', ' abfce cadefgb abf abfce', ' bgdaec gbe gb gb', ' fce ce aceb ec', ' fg afg gaf fg', ' da geabf fgcbad gad', ' edc ecd de dgceaf', ' cgf cg gcde cg', ' dagbcef bcd fegcb eabd', ' acf adcg efbgc ca', ' fcegab abde gad dbgfae', ' efbcd adgefbc gbefacd ca', ' egcf fbade cfd dbafgec', ' bagdcf fgcbda cbg dgcf', ' dgcefab egbfacd gabefc cdab', ' dbg gb efdcb dbgcae', ' febgacd bfeg afb fb', ' da edgbcf da edfa', ' cd cfage cedf fecd', ' ebfac gcebad fac fa', ' gbe afcbe gecdabf gb', ' bfecgd cefa fdeabc ce', ' acf dafcbe cdfb dfabceg', ' bcda ac ac ac', ' fcabgd bfegc fcedag gfdabc', ' cgefbd bef edcgfb fb', ' fecb edfgcb ebgafd bfadgc', ' gbefcd ebda beda fae', ' abgdc abcf bacf ca', ' caf bfad fa caf', ' dab dgabef dgebcaf bd', ' gab cdab dagcfeb dafebgc', ' cefa fab baf aebcgfd', ' da ad defbgc ad', ' bg edfcg gb efcgdab', ' aeb acbg efgadc becgda', ' gfdacbe fdegacb de deg', ' dbcaefg fdcg acgdebf gdfc', ' gac dgbae gdcb bgdc', ' bedgacf acbdfg gdb bg', ' cafbge abfc adbgfec bcg', ' fdge fe dabcfg aefdcb', ' bcg edbga fcgdab debga', ' defcba ebgdafc ceab gbcafde', ' dgab gfcae bedgfc cgfdeab', ' gd ceabgfd efcbagd bedg', ' dab adfegbc db bd', ' bfedagc db dgb cagfd', ' dgcbf fbg gbf fdgcb', ' be eb eb bfe', ' gfacd dbf bgcaedf dgfca', ' dfagcb cafdebg acfbdg fcdgeba', ' gcbefd egfdbc fgb fgb', ' edfc cfdgab decbg fc', ' ef edafc ef fgcdab', ' abedcg efbgcd fgcad cdegba', ' fdg abcdegf gadebf decfgba', ' acd dafe fbdecg adef', ' cdf deacgf gefda cf', ' deabf bcgd cdgb defgca', ' bedcgf dbfgc gfac acfbgd', ' dbacfeg feadgb dcbgf fbgdae', ' cfde fgedb bdgecf ef', ' fcg cdefbg gafed efadg', ' da da acbedf bagcfe', ' dfegba dafgbce egdbc fecbdga', ' cea ec cegabdf gadcb', ' facbged dfg bfed cfbedag', ' daef fga fga gdefab', ' cae eac gfdcbea fceg', ' gdbeca dec agcdb aebc', ' ebga ade ebfdg dgafceb', ' cbga cbag cdb bagc', ' ebfgdca fdgbec caebdgf db', ' dea ad ebgfd da', ' fgcde beagcfd cebafg da', ' ebc gfcabe egcfd fedab', ' ecgbdaf gdecabf bdceg febcga', ' dab bdgafce bcegd abegdfc', ' bag fabd bgfcea bga', ' fdgaecb dfbcega cfg fc', ' ce efabg faebcd gdecbaf', ' bafd egfbc cdgabf gfebc', ' bdegaf gfaebd gcefb cdbe', ' fgcdae daebgcf dagc fadeg', ' fc cf cfed cf', ' gce gce ec cegfadb', ' cga ag ag ag', ' fgeca gdec fdacg gda', ' gcde gca cdge cg', ' cbgdea fd cfdb afegbdc', ' bf fb gdebac bf', ' begdac fdb acefbd dgbec', ' egfac dg gedc dga', ' ade fecag aefgc fcagbed', ' gbaef bafd agcfbe bfcadeg', ' fceabdg gdfbec beg fdbgc', ' becfdg aecb bad efgcdb', ' dfeabc gab gfabd abg', ' bcfa dgefca dfcagb ba', ' abegfc egfcd cg gbedafc', ' cd dfc dcf gcfbae', ' daefc efcgda bcd dagcfeb', ' dbfag fdbeacg bgedaf bfae', ' fe fe ebfcag dacgefb', ' cf afce aecgdb cf', ' dbef cbf cfgde cbf', ' cafd fbdagc bdgac cf', ' fed gfdcaeb cgaef fedgca', ' bdagecf fgbdaec fdcgeab fg', ' efg edfca egf aefcdg', ' fgad fdag dgcbeaf ga', ' cgbdefa bc bc dabecgf', ' gadb facbdge cfgdbae eadbf', ' afdgce dcbegfa egdcfba bgfcad', ' cda cda dc ecabd', ' ab edbagf afbc facb', ' cadgf gae dagfbc gfed', ' dega bfgdec dfg daefbg', ' gce afbeg adcgb abedcgf', ' adfc cdaebg ca acb', ' gf fg fg gf', ' cged edcg bgedf ge', ' dgbface fcgad cfg fadgc', ' adfge dgfc edcfab fgcd', ' ecbagf ef dfge decbf', ' fb fbeag fbega bfg', ' ebfad afbg edafbg efb', ' abg dbgc dcbg gb', ' db cabedgf dbg fgead', ' ba debacfg fdcbe abd', ' adceg dcaeg efdc dc', ' bdc egabfd cd eadbc', ' dfgbe gb gbdefca dbcg', ' cbd cgab dfbgc cb', ' bfeadg gdfbea cabe ce', ' ed fcdgab dfe edgb', ' egcba bfe bef bcdaf', ' eagd eadg bfgcd gac', ' bea aeb ae eab', ' caefdgb gfb fb ebafgcd', ' gecb cfg cg aegdfb', ' agcd egabfc dacg dgca', ' bed ceba adbefgc ebd', ' cefgbd afcbgd ge cebg', ' gabec cedfgab acgefb dgecabf', ' dgcf efacgdb dcgf ebdfcag']\n"
     ]
    }
   ],
   "source": [
    "# Read the puzzle, it contains a list of signal patters and outputs\n",
    "lines = []\n",
    "#with open('signal_example.txt') as f:\n",
    "with open('signal.txt') as f:\n",
    "    lines = f.readlines()\n",
    "#print(lines)\n",
    "\n",
    "# Separate the signals from the outputs\n",
    "signals = []\n",
    "outputs = []\n",
    "for line in lines:\n",
    "    signal, output = line.strip('\\n').split('|')\n",
    "    signals.append(signal)\n",
    "    outputs.append(output)\n",
    "print(signals, outputs)"
   ]
  },
  {
   "cell_type": "code",
   "execution_count": 67,
   "id": "a2368e4c",
   "metadata": {},
   "outputs": [
    {
     "name": "stdout",
     "output_type": "stream",
     "text": [
      "Number of times a 1, 4, 7 or 8 appeared: 534\n"
     ]
    }
   ],
   "source": [
    "# Each signal consists of 10 patterns, and each output has 4 numbers\n",
    "count = 0\n",
    "known_digits = {2, 4, 3, 7} # number of digits of 1, 4, 7 and 8\n",
    "for output in outputs:\n",
    "    #n1, n2, n3, n4 = output.split(' ')[1:] # First one is a blank space\n",
    "    numbers = output.split(' ')[1:] # First one is a blank space\n",
    "    #print(n1, n2, n3, n4)\n",
    "    #print(numbers)\n",
    "    # Make a list of the lengths of the numbers\n",
    "    lens = [len(n) for n in numbers]\n",
    "    for l in lens:\n",
    "        if (l in known_digits):\n",
    "            count += 1\n",
    "print(f'Number of times a 1, 4, 7 or 8 appeared: {count}')"
   ]
  },
  {
   "cell_type": "markdown",
   "id": "6333b4f0",
   "metadata": {},
   "source": [
    "## Second part"
   ]
  },
  {
   "cell_type": "markdown",
   "id": "7066f8b5",
   "metadata": {},
   "source": [
    "I have to map the signal patterns to the actual digits. "
   ]
  },
  {
   "cell_type": "code",
   "execution_count": 68,
   "id": "8c21a7ba",
   "metadata": {},
   "outputs": [],
   "source": [
    "def interpret_pattern(pattern_list, output_list):\n",
    "    '''Define the patterns of each number X as pX'''\n",
    "    # The 1, 4, 7 and 8 are the only numbers with a unique lengths\n",
    "    l5s = []\n",
    "    l6s = []\n",
    "    #I only care of the letters in each pattern, not the positions (use sets)\n",
    "    for pattern in pattern_list:\n",
    "        if len(pattern)==2:\n",
    "            p1 = set(i for i in pattern)\n",
    "        elif len(pattern)==3:\n",
    "            p7 = set(i for i in pattern)\n",
    "        elif len(pattern)==4:\n",
    "            p4 = set(i for i in pattern)\n",
    "        elif len(pattern)==5:\n",
    "            l5s.append(set(i for i in pattern))\n",
    "        elif len(pattern)==6:\n",
    "            l6s.append(set(i for i in pattern))\n",
    "        elif len(pattern)==7:\n",
    "            p8 = set(i for i in pattern)\n",
    "        else:\n",
    "            print('KE?!')\n",
    "    #print(f'{p1 = }, \\n{p7 = }, \\n{p4 = }, \\n{p8 = }, \\n{l5s = }, \\n{l6s = }')\n",
    "    \n",
    "    # p2, p3, p5 are in l5s, and p0, p6, p9 are in l6s\n",
    "    a = p7 - p1\n",
    "    for pattern in l6s:\n",
    "        if len( (pattern - p4) - a) == 1:\n",
    "            p9 = pattern\n",
    "        elif len( p1 - pattern) == 0:\n",
    "            p0 = pattern\n",
    "        else:\n",
    "            p6 = pattern\n",
    "    for pattern in l5s:\n",
    "        if len( p6 - pattern ) == 1:\n",
    "            p5 = pattern\n",
    "        elif len( pattern - p4) == 2:\n",
    "            p3 = pattern\n",
    "        else:\n",
    "            p2 = pattern\n",
    "    #print(f'{a = }, {b = }, {d = },')\n",
    "    \n",
    "    # HACER CON UN DICCIONARIO?!\n",
    "    digits = []\n",
    "    for output in output_list:\n",
    "        output_set = set(output)\n",
    "        if output_set == p0:\n",
    "            digit = 0\n",
    "        elif output_set == p1:\n",
    "            digit = 1\n",
    "        elif output_set == p2:\n",
    "            digit = 2\n",
    "        elif output_set == p3:\n",
    "            digit = 3\n",
    "        elif output_set == p4:\n",
    "            digit = 4\n",
    "        elif output_set == p5:\n",
    "            digit = 5\n",
    "        elif output_set == p6:\n",
    "            digit = 6\n",
    "        elif output_set == p7:\n",
    "            digit = 7\n",
    "        elif output_set == p8:\n",
    "            digit = 8\n",
    "        elif output_set == p9:\n",
    "            digit = 9\n",
    "        else:\n",
    "            print(f'{output_set = } produced an ERROR!')\n",
    "        digits.append(digit)\n",
    "        \n",
    "    return(digits)"
   ]
  },
  {
   "cell_type": "code",
   "execution_count": 69,
   "id": "0a21b735",
   "metadata": {},
   "outputs": [
    {
     "name": "stdout",
     "output_type": "stream",
     "text": [
      "La suma vale 1070188\n"
     ]
    }
   ],
   "source": [
    "suma = 0.\n",
    "for signal, output in zip(signals, outputs):\n",
    "    patterns = signal.split(' ')[:-1] # Last one is a blank space\n",
    "    numbers = output.split(' ')[1:] # First one is a blank space\n",
    "    #print(patterns, numbers)\n",
    "    digits = interpret_pattern(patterns, numbers)\n",
    "    #print(digits)\n",
    "    num = ''\n",
    "    for i in digits:\n",
    "        num += str(i)\n",
    "    suma += int(num)\n",
    "\n",
    "print(f'La suma vale {suma:.0f}')"
   ]
  },
  {
   "cell_type": "code",
   "execution_count": null,
   "id": "80417c43",
   "metadata": {},
   "outputs": [],
   "source": []
  }
 ],
 "metadata": {
  "kernelspec": {
   "display_name": "Python 3",
   "language": "python",
   "name": "python3"
  },
  "language_info": {
   "codemirror_mode": {
    "name": "ipython",
    "version": 3
   },
   "file_extension": ".py",
   "mimetype": "text/x-python",
   "name": "python",
   "nbconvert_exporter": "python",
   "pygments_lexer": "ipython3",
   "version": "3.8.8"
  }
 },
 "nbformat": 4,
 "nbformat_minor": 5
}
